{
 "cells": [
  {
   "cell_type": "code",
   "execution_count": null,
   "id": "81fb933c",
   "metadata": {},
   "outputs": [],
   "source": [
    "import pandas as pd\n",
    "import matplotlib.pyplot as plt"
   ]
  },
  {
   "cell_type": "code",
   "execution_count": null,
   "id": "496f0e85",
   "metadata": {},
   "outputs": [],
   "source": [
    "file=pd.read_csv(r'C:\\machine learning\\Datasets\\homeprices.csv')\n",
    "file.head()"
   ]
  },
  {
   "cell_type": "code",
   "execution_count": null,
   "id": "a84e1263",
   "metadata": {},
   "outputs": [],
   "source": [
    "f1=file.isnull()\n",
    "f1"
   ]
  },
  {
   "cell_type": "code",
   "execution_count": null,
   "id": "31a959b3",
   "metadata": {},
   "outputs": [],
   "source": [
    "file.isnull().sum()"
   ]
  },
  {
   "cell_type": "code",
   "execution_count": null,
   "id": "1ea9d10e",
   "metadata": {},
   "outputs": [],
   "source": [
    "file.bedrooms.median()"
   ]
  },
  {
   "cell_type": "code",
   "execution_count": null,
   "id": "97850194",
   "metadata": {},
   "outputs": [],
   "source": [
    "f1=file.fillna(file.bedrooms.median())\n",
    "f1"
   ]
  },
  {
   "cell_type": "code",
   "execution_count": null,
   "id": "0fa99402",
   "metadata": {},
   "outputs": [],
   "source": [
    "x=f1.drop(['price'],axis=1)\n",
    "x"
   ]
  },
  {
   "cell_type": "code",
   "execution_count": null,
   "id": "2a29d039",
   "metadata": {},
   "outputs": [],
   "source": [
    "y=f1.price\n",
    "y"
   ]
  },
  {
   "cell_type": "code",
   "execution_count": null,
   "id": "a396936a",
   "metadata": {},
   "outputs": [],
   "source": [
    "from sklearn.linear_model import LinearRegression\n",
    "\n",
    "reg=LinearRegression()\n",
    "reg.fit(x,y)\n"
   ]
  },
  {
   "cell_type": "code",
   "execution_count": null,
   "id": "e5b32c7d",
   "metadata": {},
   "outputs": [],
   "source": [
    "reg.score(x,y)"
   ]
  },
  {
   "cell_type": "code",
   "execution_count": null,
   "id": "208d47c4",
   "metadata": {},
   "outputs": [],
   "source": [
    "reg.predict([[3200,4,18]])"
   ]
  },
  {
   "cell_type": "code",
   "execution_count": null,
   "id": "637824c2",
   "metadata": {},
   "outputs": [],
   "source": [
    "reg.predict([[4000,5,8]])"
   ]
  },
  {
   "cell_type": "code",
   "execution_count": null,
   "id": "76dc8503",
   "metadata": {},
   "outputs": [],
   "source": [
    "file=pd.read_csv(r'C:\\machine learning\\Datasets\\iris.csv')\n",
    "file.head(20)\n"
   ]
  },
  {
   "cell_type": "code",
   "execution_count": null,
   "id": "8111fd66",
   "metadata": {},
   "outputs": [],
   "source": [
    "from sklearn.preprocessing import LabelEncoder\n",
    "\n",
    "label=LabelEncoder()\n",
    "file.variety=label.fit_transform(file.variety)\n",
    "file"
   ]
  },
  {
   "cell_type": "code",
   "execution_count": null,
   "id": "a4cec919",
   "metadata": {},
   "outputs": [],
   "source": [
    "x=file.drop(['variety'],axis=1)\n",
    "x"
   ]
  },
  {
   "cell_type": "code",
   "execution_count": null,
   "id": "d8877149",
   "metadata": {},
   "outputs": [],
   "source": [
    "y=file.variety\n",
    "y"
   ]
  },
  {
   "cell_type": "code",
   "execution_count": 2,
   "id": "734955d7",
   "metadata": {},
   "outputs": [
    {
     "ename": "NameError",
     "evalue": "name 'x' is not defined",
     "output_type": "error",
     "traceback": [
      "\u001b[1;31m---------------------------------------------------------------------------\u001b[0m",
      "\u001b[1;31mNameError\u001b[0m                                 Traceback (most recent call last)",
      "Input \u001b[1;32mIn [2]\u001b[0m, in \u001b[0;36m<cell line: 4>\u001b[1;34m()\u001b[0m\n\u001b[0;32m      1\u001b[0m \u001b[38;5;28;01mfrom\u001b[39;00m \u001b[38;5;21;01msklearn\u001b[39;00m\u001b[38;5;21;01m.\u001b[39;00m\u001b[38;5;21;01mlinear_model\u001b[39;00m \u001b[38;5;28;01mimport\u001b[39;00m LinearRegression\n\u001b[0;32m      3\u001b[0m reg\u001b[38;5;241m=\u001b[39mLinearRegression()\n\u001b[1;32m----> 4\u001b[0m reg\u001b[38;5;241m.\u001b[39mfit(\u001b[43mx\u001b[49m,y)\n",
      "\u001b[1;31mNameError\u001b[0m: name 'x' is not defined"
     ]
    }
   ],
   "source": [
    "from sklearn.linear_model import LinearRegression\n",
    "\n",
    "reg=LinearRegression()\n",
    "reg.fit(x,y)"
   ]
  },
  {
   "cell_type": "code",
   "execution_count": null,
   "id": "999180f4",
   "metadata": {},
   "outputs": [],
   "source": [
    "reg.score(x,y)"
   ]
  },
  {
   "cell_type": "code",
   "execution_count": null,
   "id": "5df6ca3c",
   "metadata": {},
   "outputs": [],
   "source": [
    "reg.predict([[5.1,3.5,1.4,0.2]])"
   ]
  },
  {
   "cell_type": "code",
   "execution_count": null,
   "id": "a8412ef2",
   "metadata": {},
   "outputs": [],
   "source": []
  }
 ],
 "metadata": {
  "kernelspec": {
   "display_name": "Python 3 (ipykernel)",
   "language": "python",
   "name": "python3"
  },
  "language_info": {
   "codemirror_mode": {
    "name": "ipython",
    "version": 3
   },
   "file_extension": ".py",
   "mimetype": "text/x-python",
   "name": "python",
   "nbconvert_exporter": "python",
   "pygments_lexer": "ipython3",
   "version": "3.9.12"
  }
 },
 "nbformat": 4,
 "nbformat_minor": 5
}
